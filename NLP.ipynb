{
  "cells": [
    {
      "cell_type": "code",
      "execution_count": 1,
      "metadata": {
        "colab": {
          "base_uri": "https://localhost:8080/"
        },
        "id": "TP-h-C7nDZDM",
        "outputId": "fdf2a405-d313-4abf-9a8e-8b23bb3d83ec"
      },
      "outputs": [
        {
          "output_type": "stream",
          "name": "stderr",
          "text": [
            "[nltk_data] Downloading package stopwords to /root/nltk_data...\n",
            "[nltk_data]   Unzipping corpora/stopwords.zip.\n",
            "[nltk_data] Downloading package wordnet to /root/nltk_data...\n"
          ]
        },
        {
          "output_type": "execute_result",
          "data": {
            "text/plain": [
              "True"
            ]
          },
          "metadata": {},
          "execution_count": 1
        }
      ],
      "source": [
        "#import required libraries\n",
        "import pandas as pd\n",
        "import numpy as np\n",
        "import re\n",
        "import nltk\n",
        "from nltk.corpus import stopwords\n",
        "from nltk.stem import WordNetLemmatizer\n",
        "from tensorflow.keras.preprocessing.text import Tokenizer\n",
        "from tensorflow.keras.preprocessing.sequence import pad_sequences\n",
        "from tensorflow.keras.models import Sequential\n",
        "from tensorflow.keras.layers import Embedding, LSTM, Dense, Dropout\n",
        "from sklearn.model_selection import train_test_split\n",
        "from sklearn.metrics import classification_report, roc_auc_score\n",
        "\n",
        "#download required NLTK resources\n",
        "nltk.download('stopwords')\n",
        "nltk.download('wordnet')"
      ]
    },
    {
      "cell_type": "code",
      "execution_count": 2,
      "metadata": {
        "colab": {
          "base_uri": "https://localhost:8080/"
        },
        "id": "UtDPp5s-HhYu",
        "outputId": "e62e21b0-21d6-4b6d-e1df-dfcaad551968"
      },
      "outputs": [
        {
          "output_type": "stream",
          "name": "stdout",
          "text": [
            "Mounted at /content/drive\n",
            "<class 'pandas.core.frame.DataFrame'>\n",
            "RangeIndex: 413840 entries, 0 to 413839\n",
            "Data columns (total 6 columns):\n",
            " #   Column        Non-Null Count   Dtype  \n",
            "---  ------        --------------   -----  \n",
            " 0   Product Name  413840 non-null  object \n",
            " 1   Brand Name    348669 non-null  object \n",
            " 2   Price         407907 non-null  float64\n",
            " 3   Rating        413840 non-null  int64  \n",
            " 4   Reviews       413770 non-null  object \n",
            " 5   Review Votes  401544 non-null  float64\n",
            "dtypes: float64(2), int64(1), object(3)\n",
            "memory usage: 18.9+ MB\n",
            "+----+-----------------------------------------------------------------------------------------------------------+--------------+---------+----------+----------------------------------------------------------------------------------------------------------------------------------------------------------------------------------------------------------------------------------------------------------------------------------------------------------------------------------------------------------------------------------------+----------------+\n",
            "|    | Product Name                                                                                              | Brand Name   |   Price |   Rating | Reviews                                                                                                                                                                                                                                                                                                                                                                                |   Review Votes |\n",
            "+====+===========================================================================================================+==============+=========+==========+========================================================================================================================================================================================================================================================================================================================================================================================+================+\n",
            "|  0 | \"CLEAR CLEAN ESN\" Sprint EPIC 4G Galaxy SPH-D700*FRONT CAMERA*ANDROID*SLIDER*QWERTY KEYBOARD*TOUCH SCREEN | Samsung      |  199.99 |        5 | I feel so LUCKY to have found this used (phone to us & not used hard at all), phone on line from someone who upgraded and sold this one. My Son liked his old one that finally fell apart after 2.5+ years and didn't want an upgrade!! Thank you Seller, we really appreciate it & your honesty re: said used phone.I recommend this seller very highly & would but from them again!! |              1 |\n",
            "+----+-----------------------------------------------------------------------------------------------------------+--------------+---------+----------+----------------------------------------------------------------------------------------------------------------------------------------------------------------------------------------------------------------------------------------------------------------------------------------------------------------------------------------------------------------------------------------+----------------+\n",
            "|  1 | \"CLEAR CLEAN ESN\" Sprint EPIC 4G Galaxy SPH-D700*FRONT CAMERA*ANDROID*SLIDER*QWERTY KEYBOARD*TOUCH SCREEN | Samsung      |  199.99 |        4 | nice phone, nice up grade from my pantach revue. Very clean set up and easy set up. never had an android phone but they are fantastic to say the least. perfect size for surfing and social media. great phone samsung                                                                                                                                                                 |              0 |\n",
            "+----+-----------------------------------------------------------------------------------------------------------+--------------+---------+----------+----------------------------------------------------------------------------------------------------------------------------------------------------------------------------------------------------------------------------------------------------------------------------------------------------------------------------------------------------------------------------------------+----------------+\n",
            "|  2 | \"CLEAR CLEAN ESN\" Sprint EPIC 4G Galaxy SPH-D700*FRONT CAMERA*ANDROID*SLIDER*QWERTY KEYBOARD*TOUCH SCREEN | Samsung      |  199.99 |        5 | Very pleased                                                                                                                                                                                                                                                                                                                                                                           |              0 |\n",
            "+----+-----------------------------------------------------------------------------------------------------------+--------------+---------+----------+----------------------------------------------------------------------------------------------------------------------------------------------------------------------------------------------------------------------------------------------------------------------------------------------------------------------------------------------------------------------------------------+----------------+\n",
            "|  3 | \"CLEAR CLEAN ESN\" Sprint EPIC 4G Galaxy SPH-D700*FRONT CAMERA*ANDROID*SLIDER*QWERTY KEYBOARD*TOUCH SCREEN | Samsung      |  199.99 |        4 | It works good but it goes slow sometimes but its a very good phone I love it                                                                                                                                                                                                                                                                                                           |              0 |\n",
            "+----+-----------------------------------------------------------------------------------------------------------+--------------+---------+----------+----------------------------------------------------------------------------------------------------------------------------------------------------------------------------------------------------------------------------------------------------------------------------------------------------------------------------------------------------------------------------------------+----------------+\n",
            "|  4 | \"CLEAR CLEAN ESN\" Sprint EPIC 4G Galaxy SPH-D700*FRONT CAMERA*ANDROID*SLIDER*QWERTY KEYBOARD*TOUCH SCREEN | Samsung      |  199.99 |        4 | Great phone to replace my lost phone. The only thing is the volume up button does not work, but I can still go into settings to adjust. Other than that, it does the job until I am eligible to upgrade my phone again.Thaanks!                                                                                                                                                        |              0 |\n",
            "+----+-----------------------------------------------------------------------------------------------------------+--------------+---------+----------+----------------------------------------------------------------------------------------------------------------------------------------------------------------------------------------------------------------------------------------------------------------------------------------------------------------------------------------------------------------------------------------+----------------+ None\n"
          ]
        }
      ],
      "source": [
        "#mount Google Drive\n",
        "from google.colab import drive\n",
        "from tabulate import tabulate\n",
        "drive.mount('/content/drive')\n",
        "csv = pd.read_csv(\"/content/drive/MyDrive/Applied_Data_Science/amazon.csv\")\n",
        "\n",
        "#load the dataset and print its info\n",
        "print(tabulate(csv.head(), headers='keys', tablefmt='grid'), csv.info())"
      ]
    },
    {
      "cell_type": "code",
      "execution_count": 3,
      "metadata": {
        "colab": {
          "base_uri": "https://localhost:8080/"
        },
        "id": "M6K5RY9fjVTE",
        "outputId": "52638345-29b7-4760-8a6a-4adb96e5711e"
      },
      "outputs": [
        {
          "output_type": "stream",
          "name": "stderr",
          "text": [
            "<ipython-input-3-eb7a0b0a87f6>:17: SettingWithCopyWarning: \n",
            "A value is trying to be set on a copy of a slice from a DataFrame.\n",
            "Try using .loc[row_indexer,col_indexer] = value instead\n",
            "\n",
            "See the caveats in the documentation: https://pandas.pydata.org/pandas-docs/stable/user_guide/indexing.html#returning-a-view-versus-a-copy\n",
            "  csv['Sentiment'] = (csv['Rating'] > 3).astype(int)\n"
          ]
        }
      ],
      "source": [
        "#preprocess the text data\n",
        "def preprocess_text(text):\n",
        "    stop_words = set(stopwords.words('english'))\n",
        "    lemmatizer = WordNetLemmatizer()\n",
        "    text = text.lower()  # Convert to lowercase\n",
        "    tokens = text.split()  # Tokenize\n",
        "    tokens = [word for word in tokens if word.isalpha()]  # Remove non-alphabetic tokens\n",
        "    tokens = [word for word in tokens if word not in stop_words]  # Remove stopwords\n",
        "    tokens = [lemmatizer.lemmatize(word) for word in tokens]  # Lemmatize\n",
        "    return ' '.join(tokens)\n",
        "\n",
        "csv.dropna(subset=['Reviews', 'Rating'], inplace=True)\n",
        "csv['Reviews'] = csv['Reviews'].apply(preprocess_text)\n",
        "\n",
        "#labels (1 for positive, 0 for negative)\n",
        "csv = csv[csv['Rating'] != 3]  # Drop neutral reviews\n",
        "csv['Sentiment'] = (csv['Rating'] > 3).astype(int)"
      ]
    },
    {
      "cell_type": "code",
      "execution_count": 4,
      "metadata": {
        "id": "WWJkCnvBkA1g"
      },
      "outputs": [],
      "source": [
        "#tokenize and pad sequences\n",
        "tokenizer = Tokenizer(num_words=10000)\n",
        "tokenizer.fit_on_texts(csv['Reviews'])\n",
        "X = tokenizer.texts_to_sequences(csv['Reviews'])\n",
        "X = pad_sequences(X, maxlen=100)\n",
        "y = csv['Sentiment'].values"
      ]
    },
    {
      "cell_type": "code",
      "execution_count": 5,
      "metadata": {
        "colab": {
          "base_uri": "https://localhost:8080/"
        },
        "id": "Z6V_VtDPwbd7",
        "outputId": "094f8c55-0559-4b63-8f84-0a0bd71b4f54"
      },
      "outputs": [
        {
          "output_type": "stream",
          "name": "stderr",
          "text": [
            "/usr/local/lib/python3.10/dist-packages/keras/src/layers/core/embedding.py:90: UserWarning: Argument `input_length` is deprecated. Just remove it.\n",
            "  warnings.warn(\n"
          ]
        }
      ],
      "source": [
        "#data split into training and testing sets\n",
        "from sklearn.model_selection import train_test_split\n",
        "X_train, X_test, y_train, y_test = train_test_split(X, y, test_size=0.2, random_state=42)\n",
        "\n",
        "#build the model\n",
        "embedding_dim = 100  # Dimensionality of the embedding space\n",
        "model = Sequential([\n",
        "    Embedding(input_dim=10000, output_dim=embedding_dim, input_length=100),\n",
        "    LSTM(64, dropout=0.2, recurrent_dropout=0.2),\n",
        "    Dense(32, activation='relu'),\n",
        "    Dropout(0.2),\n",
        "    Dense(1, activation='sigmoid')\n",
        "])"
      ]
    },
    {
      "cell_type": "code",
      "execution_count": null,
      "metadata": {
        "colab": {
          "base_uri": "https://localhost:8080/"
        },
        "id": "SLMHsVINwr5B",
        "outputId": "cc538a2c-7039-4824-ba2b-87b6a43975e5"
      },
      "outputs": [
        {
          "output_type": "stream",
          "name": "stdout",
          "text": [
            "Epoch 1/5\n",
            "\u001b[1m9551/9551\u001b[0m \u001b[32m━━━━━━━━━━━━━━━━━━━━\u001b[0m\u001b[37m\u001b[0m \u001b[1m1790s\u001b[0m 187ms/step - accuracy: 0.8984 - loss: 0.2520 - val_accuracy: 0.9315 - val_loss: 0.1809\n",
            "Epoch 2/5\n",
            "\u001b[1m6090/9551\u001b[0m \u001b[32m━━━━━━━━━━━━\u001b[0m\u001b[37m━━━━━━━━\u001b[0m \u001b[1m10:09\u001b[0m 176ms/step - accuracy: 0.9367 - loss: 0.1686"
          ]
        }
      ],
      "source": [
        "#compile and train the model\n",
        "model.compile(loss='binary_crossentropy', optimizer='adam', metrics=['accuracy'])\n",
        "model.fit(X_train, y_train, epochs=5, batch_size=32, validation_data=(X_test, y_test))\n",
        "\n",
        "#model evaluation\n",
        "loss, accuracy = model.evaluate(X_test, y_test)\n",
        "y_pred = (model.predict(X_test) > 0.5).astype(\"int32\")\n",
        "print(f'Test Accuracy: {accuracy}')\n",
        "print('ROC AUC Score:', roc_auc_score(y_test, y_pred))"
      ]
    }
  ],
  "metadata": {
    "accelerator": "GPU",
    "colab": {
      "gpuType": "T4",
      "provenance": []
    },
    "kernelspec": {
      "display_name": "Python 3",
      "name": "python3"
    },
    "language_info": {
      "name": "python"
    }
  },
  "nbformat": 4,
  "nbformat_minor": 0
}